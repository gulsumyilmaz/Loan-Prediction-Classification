{
 "cells": [
  {
   "cell_type": "markdown",
   "id": "d77c0833",
   "metadata": {},
   "source": [
    "Classification - If the answer is yes or no than this is \n",
    "This work, we will use the classification algorithm. "
   ]
  },
  {
   "cell_type": "code",
   "execution_count": 1,
   "id": "a03d67e5",
   "metadata": {},
   "outputs": [],
   "source": [
    "#import packages\n",
    "import pandas as pd\n",
    "import matplotlib.pyplot as plt\n",
    "import seaborn as sns\n",
    "import numpy as np\n",
    "\n",
    "import warnings\n",
    "warnings.filterwarnings('ignore')\n",
    "\n",
    "from sklearn.linear_model import LinearRegression, Ridge,Lasso\n",
    "from sklearn.model_selection import train_test_split\n",
    "from sklearn.metrics import mean_squared_error, r2_score"
   ]
  },
  {
   "cell_type": "code",
   "execution_count": 2,
   "id": "32dce736",
   "metadata": {},
   "outputs": [],
   "source": [
    "#import data\n",
    "df=pd.read_csv(\"LoansTrainingSet.csv\")"
   ]
  },
  {
   "cell_type": "markdown",
   "id": "03384ac0",
   "metadata": {},
   "source": [
    "## EDA (Exploratory Data Analysis)"
   ]
  },
  {
   "cell_type": "code",
   "execution_count": 3,
   "id": "f717c4c1",
   "metadata": {},
   "outputs": [
    {
     "data": {
      "text/html": [
       "<div>\n",
       "<style scoped>\n",
       "    .dataframe tbody tr th:only-of-type {\n",
       "        vertical-align: middle;\n",
       "    }\n",
       "\n",
       "    .dataframe tbody tr th {\n",
       "        vertical-align: top;\n",
       "    }\n",
       "\n",
       "    .dataframe thead th {\n",
       "        text-align: right;\n",
       "    }\n",
       "</style>\n",
       "<table border=\"1\" class=\"dataframe\">\n",
       "  <thead>\n",
       "    <tr style=\"text-align: right;\">\n",
       "      <th></th>\n",
       "      <th>Loan ID</th>\n",
       "      <th>Customer ID</th>\n",
       "      <th>Loan Status</th>\n",
       "      <th>Current Loan Amount</th>\n",
       "      <th>Term</th>\n",
       "      <th>Credit Score</th>\n",
       "      <th>Years in current job</th>\n",
       "      <th>Home Ownership</th>\n",
       "      <th>Annual Income</th>\n",
       "      <th>Purpose</th>\n",
       "      <th>Monthly Debt</th>\n",
       "      <th>Years of Credit History</th>\n",
       "      <th>Months since last delinquent</th>\n",
       "      <th>Number of Open Accounts</th>\n",
       "      <th>Number of Credit Problems</th>\n",
       "      <th>Current Credit Balance</th>\n",
       "      <th>Maximum Open Credit</th>\n",
       "      <th>Bankruptcies</th>\n",
       "      <th>Tax Liens</th>\n",
       "    </tr>\n",
       "  </thead>\n",
       "  <tbody>\n",
       "    <tr>\n",
       "      <th>0</th>\n",
       "      <td>000025bb-5694-4cff-b17d-192b1a98ba44</td>\n",
       "      <td>5ebc8bb1-5eb9-4404-b11b-a6eebc401a19</td>\n",
       "      <td>Fully Paid</td>\n",
       "      <td>11520</td>\n",
       "      <td>Short Term</td>\n",
       "      <td>741.0</td>\n",
       "      <td>10+ years</td>\n",
       "      <td>Home Mortgage</td>\n",
       "      <td>33694.0</td>\n",
       "      <td>Debt Consolidation</td>\n",
       "      <td>$584.03</td>\n",
       "      <td>12.3</td>\n",
       "      <td>41.0</td>\n",
       "      <td>10</td>\n",
       "      <td>0</td>\n",
       "      <td>6760</td>\n",
       "      <td>16056</td>\n",
       "      <td>0.0</td>\n",
       "      <td>0.0</td>\n",
       "    </tr>\n",
       "    <tr>\n",
       "      <th>1</th>\n",
       "      <td>00002c49-3a29-4bd4-8f67-c8f8fbc1048c</td>\n",
       "      <td>927b388d-2e01-423f-a8dc-f7e42d668f46</td>\n",
       "      <td>Fully Paid</td>\n",
       "      <td>3441</td>\n",
       "      <td>Short Term</td>\n",
       "      <td>734.0</td>\n",
       "      <td>4 years</td>\n",
       "      <td>Home Mortgage</td>\n",
       "      <td>42269.0</td>\n",
       "      <td>other</td>\n",
       "      <td>$1,106.04</td>\n",
       "      <td>26.3</td>\n",
       "      <td>NaN</td>\n",
       "      <td>17</td>\n",
       "      <td>0</td>\n",
       "      <td>6262</td>\n",
       "      <td>19149</td>\n",
       "      <td>0.0</td>\n",
       "      <td>0.0</td>\n",
       "    </tr>\n",
       "    <tr>\n",
       "      <th>2</th>\n",
       "      <td>00002d89-27f3-409b-aa76-90834f359a65</td>\n",
       "      <td>defce609-c631-447d-aad6-1270615e89c4</td>\n",
       "      <td>Fully Paid</td>\n",
       "      <td>21029</td>\n",
       "      <td>Short Term</td>\n",
       "      <td>747.0</td>\n",
       "      <td>10+ years</td>\n",
       "      <td>Home Mortgage</td>\n",
       "      <td>90126.0</td>\n",
       "      <td>Debt Consolidation</td>\n",
       "      <td>$1,321.85</td>\n",
       "      <td>28.8</td>\n",
       "      <td>NaN</td>\n",
       "      <td>5</td>\n",
       "      <td>0</td>\n",
       "      <td>20967</td>\n",
       "      <td>28335</td>\n",
       "      <td>0.0</td>\n",
       "      <td>0.0</td>\n",
       "    </tr>\n",
       "    <tr>\n",
       "      <th>3</th>\n",
       "      <td>00005222-b4d8-45a4-ad8c-186057e24233</td>\n",
       "      <td>070bcecb-aae7-4485-a26a-e0403e7bb6c5</td>\n",
       "      <td>Fully Paid</td>\n",
       "      <td>18743</td>\n",
       "      <td>Short Term</td>\n",
       "      <td>747.0</td>\n",
       "      <td>10+ years</td>\n",
       "      <td>Own Home</td>\n",
       "      <td>38072.0</td>\n",
       "      <td>Debt Consolidation</td>\n",
       "      <td>$751.92</td>\n",
       "      <td>26.2</td>\n",
       "      <td>NaN</td>\n",
       "      <td>9</td>\n",
       "      <td>0</td>\n",
       "      <td>22529</td>\n",
       "      <td>43915</td>\n",
       "      <td>0.0</td>\n",
       "      <td>0.0</td>\n",
       "    </tr>\n",
       "    <tr>\n",
       "      <th>4</th>\n",
       "      <td>0000757f-a121-41ed-b17b-162e76647c1f</td>\n",
       "      <td>dde79588-12f0-4811-bab0-e2b07f633fcd</td>\n",
       "      <td>Fully Paid</td>\n",
       "      <td>11731</td>\n",
       "      <td>Short Term</td>\n",
       "      <td>746.0</td>\n",
       "      <td>4 years</td>\n",
       "      <td>Rent</td>\n",
       "      <td>50025.0</td>\n",
       "      <td>Debt Consolidation</td>\n",
       "      <td>$355.18</td>\n",
       "      <td>11.5</td>\n",
       "      <td>NaN</td>\n",
       "      <td>12</td>\n",
       "      <td>0</td>\n",
       "      <td>17391</td>\n",
       "      <td>37081</td>\n",
       "      <td>0.0</td>\n",
       "      <td>0.0</td>\n",
       "    </tr>\n",
       "  </tbody>\n",
       "</table>\n",
       "</div>"
      ],
      "text/plain": [
       "                                Loan ID                           Customer ID  \\\n",
       "0  000025bb-5694-4cff-b17d-192b1a98ba44  5ebc8bb1-5eb9-4404-b11b-a6eebc401a19   \n",
       "1  00002c49-3a29-4bd4-8f67-c8f8fbc1048c  927b388d-2e01-423f-a8dc-f7e42d668f46   \n",
       "2  00002d89-27f3-409b-aa76-90834f359a65  defce609-c631-447d-aad6-1270615e89c4   \n",
       "3  00005222-b4d8-45a4-ad8c-186057e24233  070bcecb-aae7-4485-a26a-e0403e7bb6c5   \n",
       "4  0000757f-a121-41ed-b17b-162e76647c1f  dde79588-12f0-4811-bab0-e2b07f633fcd   \n",
       "\n",
       "  Loan Status  Current Loan Amount        Term  Credit Score  \\\n",
       "0  Fully Paid                11520  Short Term         741.0   \n",
       "1  Fully Paid                 3441  Short Term         734.0   \n",
       "2  Fully Paid                21029  Short Term         747.0   \n",
       "3  Fully Paid                18743  Short Term         747.0   \n",
       "4  Fully Paid                11731  Short Term         746.0   \n",
       "\n",
       "  Years in current job Home Ownership  Annual Income             Purpose  \\\n",
       "0            10+ years  Home Mortgage        33694.0  Debt Consolidation   \n",
       "1              4 years  Home Mortgage        42269.0               other   \n",
       "2            10+ years  Home Mortgage        90126.0  Debt Consolidation   \n",
       "3            10+ years       Own Home        38072.0  Debt Consolidation   \n",
       "4              4 years           Rent        50025.0  Debt Consolidation   \n",
       "\n",
       "  Monthly Debt  Years of Credit History  Months since last delinquent  \\\n",
       "0      $584.03                     12.3                          41.0   \n",
       "1   $1,106.04                      26.3                           NaN   \n",
       "2   $1,321.85                      28.8                           NaN   \n",
       "3      $751.92                     26.2                           NaN   \n",
       "4      $355.18                     11.5                           NaN   \n",
       "\n",
       "   Number of Open Accounts  Number of Credit Problems  Current Credit Balance  \\\n",
       "0                       10                          0                    6760   \n",
       "1                       17                          0                    6262   \n",
       "2                        5                          0                   20967   \n",
       "3                        9                          0                   22529   \n",
       "4                       12                          0                   17391   \n",
       "\n",
       "  Maximum Open Credit  Bankruptcies  Tax Liens  \n",
       "0               16056           0.0        0.0  \n",
       "1               19149           0.0        0.0  \n",
       "2               28335           0.0        0.0  \n",
       "3               43915           0.0        0.0  \n",
       "4               37081           0.0        0.0  "
      ]
     },
     "execution_count": 3,
     "metadata": {},
     "output_type": "execute_result"
    }
   ],
   "source": [
    "df.head()"
   ]
  },
  {
   "cell_type": "code",
   "execution_count": 4,
   "id": "fb69e286",
   "metadata": {
    "scrolled": true
   },
   "outputs": [
    {
     "data": {
      "text/html": [
       "<div>\n",
       "<style scoped>\n",
       "    .dataframe tbody tr th:only-of-type {\n",
       "        vertical-align: middle;\n",
       "    }\n",
       "\n",
       "    .dataframe tbody tr th {\n",
       "        vertical-align: top;\n",
       "    }\n",
       "\n",
       "    .dataframe thead th {\n",
       "        text-align: right;\n",
       "    }\n",
       "</style>\n",
       "<table border=\"1\" class=\"dataframe\">\n",
       "  <thead>\n",
       "    <tr style=\"text-align: right;\">\n",
       "      <th></th>\n",
       "      <th>Loan ID</th>\n",
       "      <th>Customer ID</th>\n",
       "      <th>Loan Status</th>\n",
       "      <th>Current Loan Amount</th>\n",
       "      <th>Term</th>\n",
       "      <th>Credit Score</th>\n",
       "      <th>Years in current job</th>\n",
       "      <th>Home Ownership</th>\n",
       "      <th>Annual Income</th>\n",
       "      <th>Purpose</th>\n",
       "      <th>Monthly Debt</th>\n",
       "      <th>Years of Credit History</th>\n",
       "      <th>Months since last delinquent</th>\n",
       "      <th>Number of Open Accounts</th>\n",
       "      <th>Number of Credit Problems</th>\n",
       "      <th>Current Credit Balance</th>\n",
       "      <th>Maximum Open Credit</th>\n",
       "      <th>Bankruptcies</th>\n",
       "      <th>Tax Liens</th>\n",
       "    </tr>\n",
       "  </thead>\n",
       "  <tbody>\n",
       "    <tr>\n",
       "      <th>35208</th>\n",
       "      <td>230d759f-f747-443e-b695-3ee03e5df5f7</td>\n",
       "      <td>27073a20-32ab-4823-8047-7164f2f10fb5</td>\n",
       "      <td>Fully Paid</td>\n",
       "      <td>99999999</td>\n",
       "      <td>Short Term</td>\n",
       "      <td>741.0</td>\n",
       "      <td>&lt; 1 year</td>\n",
       "      <td>Rent</td>\n",
       "      <td>85498.0</td>\n",
       "      <td>Debt Consolidation</td>\n",
       "      <td>$671.16</td>\n",
       "      <td>24.7</td>\n",
       "      <td>42.0</td>\n",
       "      <td>8</td>\n",
       "      <td>0</td>\n",
       "      <td>10287</td>\n",
       "      <td>16892</td>\n",
       "      <td>0.0</td>\n",
       "      <td>0.0</td>\n",
       "    </tr>\n",
       "    <tr>\n",
       "      <th>34134</th>\n",
       "      <td>21fb725f-7eb8-41b1-aa4f-dbc7a324216d</td>\n",
       "      <td>29a4c85d-8688-4ef0-8eb5-3b709ad2f26c</td>\n",
       "      <td>Fully Paid</td>\n",
       "      <td>31807</td>\n",
       "      <td>Long Term</td>\n",
       "      <td>717.0</td>\n",
       "      <td>6 years</td>\n",
       "      <td>Home Mortgage</td>\n",
       "      <td>71122.0</td>\n",
       "      <td>Debt Consolidation</td>\n",
       "      <td>$1,054.97</td>\n",
       "      <td>13.9</td>\n",
       "      <td>5.0</td>\n",
       "      <td>12</td>\n",
       "      <td>0</td>\n",
       "      <td>15203</td>\n",
       "      <td>26394</td>\n",
       "      <td>0.0</td>\n",
       "      <td>0.0</td>\n",
       "    </tr>\n",
       "    <tr>\n",
       "      <th>35932</th>\n",
       "      <td>23cfb4f5-2af9-4514-89ed-882dce0267d0</td>\n",
       "      <td>f56ea5e5-1ea7-4bc8-8b45-4f3e2a909e42</td>\n",
       "      <td>Fully Paid</td>\n",
       "      <td>14717</td>\n",
       "      <td>Short Term</td>\n",
       "      <td>731.0</td>\n",
       "      <td>2 years</td>\n",
       "      <td>Rent</td>\n",
       "      <td>40320.0</td>\n",
       "      <td>Debt Consolidation</td>\n",
       "      <td>$636.05</td>\n",
       "      <td>17.4</td>\n",
       "      <td>NaN</td>\n",
       "      <td>6</td>\n",
       "      <td>0</td>\n",
       "      <td>23225</td>\n",
       "      <td>25190</td>\n",
       "      <td>0.0</td>\n",
       "      <td>0.0</td>\n",
       "    </tr>\n",
       "    <tr>\n",
       "      <th>229640</th>\n",
       "      <td>e48c3dcd-dc6d-4a32-bc78-d28970ec88df</td>\n",
       "      <td>d0bd47b3-379c-4f85-b9d7-abb28feff86d</td>\n",
       "      <td>Fully Paid</td>\n",
       "      <td>4941</td>\n",
       "      <td>Short Term</td>\n",
       "      <td>NaN</td>\n",
       "      <td>10+ years</td>\n",
       "      <td>Rent</td>\n",
       "      <td>NaN</td>\n",
       "      <td>Debt Consolidation</td>\n",
       "      <td>$1,159.74</td>\n",
       "      <td>20.7</td>\n",
       "      <td>NaN</td>\n",
       "      <td>16</td>\n",
       "      <td>0</td>\n",
       "      <td>8523</td>\n",
       "      <td>21911</td>\n",
       "      <td>0.0</td>\n",
       "      <td>0.0</td>\n",
       "    </tr>\n",
       "    <tr>\n",
       "      <th>12739</th>\n",
       "      <td>0cb369f5-d62c-49dc-bba5-9d663c13b927</td>\n",
       "      <td>70f05856-0abc-41cf-8682-157f13d3f3ca</td>\n",
       "      <td>Charged Off</td>\n",
       "      <td>3020</td>\n",
       "      <td>Short Term</td>\n",
       "      <td>NaN</td>\n",
       "      <td>2 years</td>\n",
       "      <td>Rent</td>\n",
       "      <td>NaN</td>\n",
       "      <td>Debt Consolidation</td>\n",
       "      <td>$224.62</td>\n",
       "      <td>8.0</td>\n",
       "      <td>22.0</td>\n",
       "      <td>3</td>\n",
       "      <td>0</td>\n",
       "      <td>1422</td>\n",
       "      <td>2718</td>\n",
       "      <td>0.0</td>\n",
       "      <td>0.0</td>\n",
       "    </tr>\n",
       "    <tr>\n",
       "      <th>193565</th>\n",
       "      <td>c07a117e-82f3-479a-a148-9d1927ef72ed</td>\n",
       "      <td>f6967dc7-37ee-4a07-8798-2d5af0d9d087</td>\n",
       "      <td>Charged Off</td>\n",
       "      <td>11813</td>\n",
       "      <td>Short Term</td>\n",
       "      <td>NaN</td>\n",
       "      <td>2 years</td>\n",
       "      <td>Home Mortgage</td>\n",
       "      <td>NaN</td>\n",
       "      <td>Debt Consolidation</td>\n",
       "      <td>$849.86</td>\n",
       "      <td>17.0</td>\n",
       "      <td>NaN</td>\n",
       "      <td>12</td>\n",
       "      <td>0</td>\n",
       "      <td>11116</td>\n",
       "      <td>18403</td>\n",
       "      <td>0.0</td>\n",
       "      <td>0.0</td>\n",
       "    </tr>\n",
       "    <tr>\n",
       "      <th>150798</th>\n",
       "      <td>95e0fdb3-5256-40d3-b4a8-d6d9cdf8951d</td>\n",
       "      <td>4274282f-6583-4404-9678-033938a0a4c8</td>\n",
       "      <td>Fully Paid</td>\n",
       "      <td>8907</td>\n",
       "      <td>Short Term</td>\n",
       "      <td>NaN</td>\n",
       "      <td>NaN</td>\n",
       "      <td>Own Home</td>\n",
       "      <td>NaN</td>\n",
       "      <td>Home Improvements</td>\n",
       "      <td>$650.68</td>\n",
       "      <td>16.3</td>\n",
       "      <td>12.0</td>\n",
       "      <td>6</td>\n",
       "      <td>0</td>\n",
       "      <td>5478</td>\n",
       "      <td>11484</td>\n",
       "      <td>0.0</td>\n",
       "      <td>0.0</td>\n",
       "    </tr>\n",
       "    <tr>\n",
       "      <th>205498</th>\n",
       "      <td>cc8f85a7-31f3-4435-ac47-747f3e3a12ea</td>\n",
       "      <td>b5a36884-bb54-4015-b97d-fc6f8ec381d1</td>\n",
       "      <td>Fully Paid</td>\n",
       "      <td>1405</td>\n",
       "      <td>Short Term</td>\n",
       "      <td>NaN</td>\n",
       "      <td>NaN</td>\n",
       "      <td>Rent</td>\n",
       "      <td>NaN</td>\n",
       "      <td>Buy a Car</td>\n",
       "      <td>$41.16</td>\n",
       "      <td>8.7</td>\n",
       "      <td>NaN</td>\n",
       "      <td>2</td>\n",
       "      <td>0</td>\n",
       "      <td>1254</td>\n",
       "      <td>1807</td>\n",
       "      <td>0.0</td>\n",
       "      <td>0.0</td>\n",
       "    </tr>\n",
       "    <tr>\n",
       "      <th>158894</th>\n",
       "      <td>9e0b8586-d42b-454e-bdd6-d6b97039510b</td>\n",
       "      <td>b8f1d9e0-63d9-43e2-9156-383b1fcc3576</td>\n",
       "      <td>Fully Paid</td>\n",
       "      <td>15933</td>\n",
       "      <td>Short Term</td>\n",
       "      <td>NaN</td>\n",
       "      <td>10+ years</td>\n",
       "      <td>Rent</td>\n",
       "      <td>NaN</td>\n",
       "      <td>Debt Consolidation</td>\n",
       "      <td>$1,081.94</td>\n",
       "      <td>17.4</td>\n",
       "      <td>44.0</td>\n",
       "      <td>9</td>\n",
       "      <td>0</td>\n",
       "      <td>8720</td>\n",
       "      <td>14343</td>\n",
       "      <td>0.0</td>\n",
       "      <td>0.0</td>\n",
       "    </tr>\n",
       "    <tr>\n",
       "      <th>88455</th>\n",
       "      <td>57df6353-6644-462f-814f-171bb2168386</td>\n",
       "      <td>b7e8e3e1-30a4-475b-a752-0af27659cc10</td>\n",
       "      <td>Fully Paid</td>\n",
       "      <td>7330</td>\n",
       "      <td>Short Term</td>\n",
       "      <td>746.0</td>\n",
       "      <td>3 years</td>\n",
       "      <td>Home Mortgage</td>\n",
       "      <td>178168.0</td>\n",
       "      <td>Debt Consolidation</td>\n",
       "      <td>$2,241.94</td>\n",
       "      <td>22.0</td>\n",
       "      <td>0.0</td>\n",
       "      <td>21</td>\n",
       "      <td>0</td>\n",
       "      <td>103279</td>\n",
       "      <td>753862</td>\n",
       "      <td>NaN</td>\n",
       "      <td>0.0</td>\n",
       "    </tr>\n",
       "  </tbody>\n",
       "</table>\n",
       "</div>"
      ],
      "text/plain": [
       "                                     Loan ID  \\\n",
       "35208   230d759f-f747-443e-b695-3ee03e5df5f7   \n",
       "34134   21fb725f-7eb8-41b1-aa4f-dbc7a324216d   \n",
       "35932   23cfb4f5-2af9-4514-89ed-882dce0267d0   \n",
       "229640  e48c3dcd-dc6d-4a32-bc78-d28970ec88df   \n",
       "12739   0cb369f5-d62c-49dc-bba5-9d663c13b927   \n",
       "193565  c07a117e-82f3-479a-a148-9d1927ef72ed   \n",
       "150798  95e0fdb3-5256-40d3-b4a8-d6d9cdf8951d   \n",
       "205498  cc8f85a7-31f3-4435-ac47-747f3e3a12ea   \n",
       "158894  9e0b8586-d42b-454e-bdd6-d6b97039510b   \n",
       "88455   57df6353-6644-462f-814f-171bb2168386   \n",
       "\n",
       "                                 Customer ID  Loan Status  \\\n",
       "35208   27073a20-32ab-4823-8047-7164f2f10fb5   Fully Paid   \n",
       "34134   29a4c85d-8688-4ef0-8eb5-3b709ad2f26c   Fully Paid   \n",
       "35932   f56ea5e5-1ea7-4bc8-8b45-4f3e2a909e42   Fully Paid   \n",
       "229640  d0bd47b3-379c-4f85-b9d7-abb28feff86d   Fully Paid   \n",
       "12739   70f05856-0abc-41cf-8682-157f13d3f3ca  Charged Off   \n",
       "193565  f6967dc7-37ee-4a07-8798-2d5af0d9d087  Charged Off   \n",
       "150798  4274282f-6583-4404-9678-033938a0a4c8   Fully Paid   \n",
       "205498  b5a36884-bb54-4015-b97d-fc6f8ec381d1   Fully Paid   \n",
       "158894  b8f1d9e0-63d9-43e2-9156-383b1fcc3576   Fully Paid   \n",
       "88455   b7e8e3e1-30a4-475b-a752-0af27659cc10   Fully Paid   \n",
       "\n",
       "        Current Loan Amount        Term  Credit Score Years in current job  \\\n",
       "35208              99999999  Short Term         741.0             < 1 year   \n",
       "34134                 31807   Long Term         717.0              6 years   \n",
       "35932                 14717  Short Term         731.0              2 years   \n",
       "229640                 4941  Short Term           NaN            10+ years   \n",
       "12739                  3020  Short Term           NaN              2 years   \n",
       "193565                11813  Short Term           NaN              2 years   \n",
       "150798                 8907  Short Term           NaN                  NaN   \n",
       "205498                 1405  Short Term           NaN                  NaN   \n",
       "158894                15933  Short Term           NaN            10+ years   \n",
       "88455                  7330  Short Term         746.0              3 years   \n",
       "\n",
       "       Home Ownership  Annual Income             Purpose Monthly Debt  \\\n",
       "35208            Rent        85498.0  Debt Consolidation      $671.16   \n",
       "34134   Home Mortgage        71122.0  Debt Consolidation   $1,054.97    \n",
       "35932            Rent        40320.0  Debt Consolidation      $636.05   \n",
       "229640           Rent            NaN  Debt Consolidation   $1,159.74    \n",
       "12739            Rent            NaN  Debt Consolidation      $224.62   \n",
       "193565  Home Mortgage            NaN  Debt Consolidation      $849.86   \n",
       "150798       Own Home            NaN   Home Improvements      $650.68   \n",
       "205498           Rent            NaN           Buy a Car       $41.16   \n",
       "158894           Rent            NaN  Debt Consolidation   $1,081.94    \n",
       "88455   Home Mortgage       178168.0  Debt Consolidation   $2,241.94    \n",
       "\n",
       "        Years of Credit History  Months since last delinquent  \\\n",
       "35208                      24.7                          42.0   \n",
       "34134                      13.9                           5.0   \n",
       "35932                      17.4                           NaN   \n",
       "229640                     20.7                           NaN   \n",
       "12739                       8.0                          22.0   \n",
       "193565                     17.0                           NaN   \n",
       "150798                     16.3                          12.0   \n",
       "205498                      8.7                           NaN   \n",
       "158894                     17.4                          44.0   \n",
       "88455                      22.0                           0.0   \n",
       "\n",
       "        Number of Open Accounts  Number of Credit Problems  \\\n",
       "35208                         8                          0   \n",
       "34134                        12                          0   \n",
       "35932                         6                          0   \n",
       "229640                       16                          0   \n",
       "12739                         3                          0   \n",
       "193565                       12                          0   \n",
       "150798                        6                          0   \n",
       "205498                        2                          0   \n",
       "158894                        9                          0   \n",
       "88455                        21                          0   \n",
       "\n",
       "        Current Credit Balance Maximum Open Credit  Bankruptcies  Tax Liens  \n",
       "35208                    10287               16892           0.0        0.0  \n",
       "34134                    15203               26394           0.0        0.0  \n",
       "35932                    23225               25190           0.0        0.0  \n",
       "229640                    8523               21911           0.0        0.0  \n",
       "12739                     1422                2718           0.0        0.0  \n",
       "193565                   11116               18403           0.0        0.0  \n",
       "150798                    5478               11484           0.0        0.0  \n",
       "205498                    1254                1807           0.0        0.0  \n",
       "158894                    8720               14343           0.0        0.0  \n",
       "88455                   103279              753862           NaN        0.0  "
      ]
     },
     "execution_count": 4,
     "metadata": {},
     "output_type": "execute_result"
    }
   ],
   "source": [
    "df.sample(10)"
   ]
  },
  {
   "cell_type": "code",
   "execution_count": 5,
   "id": "e4c97095",
   "metadata": {},
   "outputs": [
    {
     "name": "stdout",
     "output_type": "stream",
     "text": [
      "<class 'pandas.core.frame.DataFrame'>\n",
      "RangeIndex: 256984 entries, 0 to 256983\n",
      "Data columns (total 19 columns):\n",
      " #   Column                        Non-Null Count   Dtype  \n",
      "---  ------                        --------------   -----  \n",
      " 0   Loan ID                       256984 non-null  object \n",
      " 1   Customer ID                   256984 non-null  object \n",
      " 2   Loan Status                   256984 non-null  object \n",
      " 3   Current Loan Amount           256984 non-null  int64  \n",
      " 4   Term                          256984 non-null  object \n",
      " 5   Credit Score                  195308 non-null  float64\n",
      " 6   Years in current job          245508 non-null  object \n",
      " 7   Home Ownership                256984 non-null  object \n",
      " 8   Annual Income                 195308 non-null  float64\n",
      " 9   Purpose                       256984 non-null  object \n",
      " 10  Monthly Debt                  256984 non-null  object \n",
      " 11  Years of Credit History       256984 non-null  float64\n",
      " 12  Months since last delinquent  116601 non-null  float64\n",
      " 13  Number of Open Accounts       256984 non-null  int64  \n",
      " 14  Number of Credit Problems     256984 non-null  int64  \n",
      " 15  Current Credit Balance        256984 non-null  int64  \n",
      " 16  Maximum Open Credit           256984 non-null  object \n",
      " 17  Bankruptcies                  256455 non-null  float64\n",
      " 18  Tax Liens                     256961 non-null  float64\n",
      "dtypes: float64(6), int64(4), object(9)\n",
      "memory usage: 37.3+ MB\n"
     ]
    }
   ],
   "source": [
    "df.info()"
   ]
  },
  {
   "cell_type": "code",
   "execution_count": 6,
   "id": "25c0c31e",
   "metadata": {},
   "outputs": [
    {
     "data": {
      "text/plain": [
       "Loan ID                              0\n",
       "Customer ID                          0\n",
       "Loan Status                          0\n",
       "Current Loan Amount                  0\n",
       "Term                                 0\n",
       "Credit Score                     61676\n",
       "Years in current job             11476\n",
       "Home Ownership                       0\n",
       "Annual Income                    61676\n",
       "Purpose                              0\n",
       "Monthly Debt                         0\n",
       "Years of Credit History              0\n",
       "Months since last delinquent    140383\n",
       "Number of Open Accounts              0\n",
       "Number of Credit Problems            0\n",
       "Current Credit Balance               0\n",
       "Maximum Open Credit                  0\n",
       "Bankruptcies                       529\n",
       "Tax Liens                           23\n",
       "dtype: int64"
      ]
     },
     "execution_count": 6,
     "metadata": {},
     "output_type": "execute_result"
    }
   ],
   "source": [
    "df.isnull().sum()"
   ]
  },
  {
   "cell_type": "code",
   "execution_count": 7,
   "id": "936f056a",
   "metadata": {},
   "outputs": [
    {
     "data": {
      "text/html": [
       "<div>\n",
       "<style scoped>\n",
       "    .dataframe tbody tr th:only-of-type {\n",
       "        vertical-align: middle;\n",
       "    }\n",
       "\n",
       "    .dataframe tbody tr th {\n",
       "        vertical-align: top;\n",
       "    }\n",
       "\n",
       "    .dataframe thead th {\n",
       "        text-align: right;\n",
       "    }\n",
       "</style>\n",
       "<table border=\"1\" class=\"dataframe\">\n",
       "  <thead>\n",
       "    <tr style=\"text-align: right;\">\n",
       "      <th></th>\n",
       "      <th>Current Loan Amount</th>\n",
       "      <th>Credit Score</th>\n",
       "      <th>Annual Income</th>\n",
       "      <th>Years of Credit History</th>\n",
       "      <th>Months since last delinquent</th>\n",
       "      <th>Number of Open Accounts</th>\n",
       "      <th>Number of Credit Problems</th>\n",
       "      <th>Current Credit Balance</th>\n",
       "      <th>Bankruptcies</th>\n",
       "      <th>Tax Liens</th>\n",
       "    </tr>\n",
       "  </thead>\n",
       "  <tbody>\n",
       "    <tr>\n",
       "      <th>count</th>\n",
       "      <td>2.569840e+05</td>\n",
       "      <td>195308.000000</td>\n",
       "      <td>1.953080e+05</td>\n",
       "      <td>256984.000000</td>\n",
       "      <td>116601.000000</td>\n",
       "      <td>256984.000000</td>\n",
       "      <td>256984.000000</td>\n",
       "      <td>2.569840e+05</td>\n",
       "      <td>256455.000000</td>\n",
       "      <td>256961.000000</td>\n",
       "    </tr>\n",
       "    <tr>\n",
       "      <th>mean</th>\n",
       "      <td>1.371331e+07</td>\n",
       "      <td>1251.116099</td>\n",
       "      <td>7.195272e+04</td>\n",
       "      <td>18.290195</td>\n",
       "      <td>34.881450</td>\n",
       "      <td>11.106267</td>\n",
       "      <td>0.156628</td>\n",
       "      <td>1.540656e+04</td>\n",
       "      <td>0.110316</td>\n",
       "      <td>0.027203</td>\n",
       "    </tr>\n",
       "    <tr>\n",
       "      <th>std</th>\n",
       "      <td>3.438131e+07</td>\n",
       "      <td>1762.016848</td>\n",
       "      <td>5.887757e+04</td>\n",
       "      <td>7.075747</td>\n",
       "      <td>21.854165</td>\n",
       "      <td>4.982982</td>\n",
       "      <td>0.460731</td>\n",
       "      <td>1.966506e+04</td>\n",
       "      <td>0.336229</td>\n",
       "      <td>0.245950</td>\n",
       "    </tr>\n",
       "    <tr>\n",
       "      <th>min</th>\n",
       "      <td>5.050000e+02</td>\n",
       "      <td>585.000000</td>\n",
       "      <td>0.000000e+00</td>\n",
       "      <td>3.400000</td>\n",
       "      <td>0.000000</td>\n",
       "      <td>0.000000</td>\n",
       "      <td>0.000000</td>\n",
       "      <td>0.000000e+00</td>\n",
       "      <td>0.000000</td>\n",
       "      <td>0.000000</td>\n",
       "    </tr>\n",
       "    <tr>\n",
       "      <th>25%</th>\n",
       "      <td>8.299000e+03</td>\n",
       "      <td>714.000000</td>\n",
       "      <td>4.432100e+04</td>\n",
       "      <td>13.500000</td>\n",
       "      <td>16.000000</td>\n",
       "      <td>8.000000</td>\n",
       "      <td>0.000000</td>\n",
       "      <td>5.974000e+03</td>\n",
       "      <td>0.000000</td>\n",
       "      <td>0.000000</td>\n",
       "    </tr>\n",
       "    <tr>\n",
       "      <th>50%</th>\n",
       "      <td>1.429800e+04</td>\n",
       "      <td>733.000000</td>\n",
       "      <td>6.124200e+04</td>\n",
       "      <td>17.000000</td>\n",
       "      <td>32.000000</td>\n",
       "      <td>10.000000</td>\n",
       "      <td>0.000000</td>\n",
       "      <td>1.107800e+04</td>\n",
       "      <td>0.000000</td>\n",
       "      <td>0.000000</td>\n",
       "    </tr>\n",
       "    <tr>\n",
       "      <th>75%</th>\n",
       "      <td>2.436700e+04</td>\n",
       "      <td>744.000000</td>\n",
       "      <td>8.646200e+04</td>\n",
       "      <td>21.700000</td>\n",
       "      <td>51.000000</td>\n",
       "      <td>14.000000</td>\n",
       "      <td>0.000000</td>\n",
       "      <td>1.931900e+04</td>\n",
       "      <td>0.000000</td>\n",
       "      <td>0.000000</td>\n",
       "    </tr>\n",
       "    <tr>\n",
       "      <th>max</th>\n",
       "      <td>1.000000e+08</td>\n",
       "      <td>7510.000000</td>\n",
       "      <td>8.713547e+06</td>\n",
       "      <td>70.500000</td>\n",
       "      <td>176.000000</td>\n",
       "      <td>76.000000</td>\n",
       "      <td>11.000000</td>\n",
       "      <td>1.731412e+06</td>\n",
       "      <td>7.000000</td>\n",
       "      <td>11.000000</td>\n",
       "    </tr>\n",
       "  </tbody>\n",
       "</table>\n",
       "</div>"
      ],
      "text/plain": [
       "       Current Loan Amount   Credit Score  Annual Income  \\\n",
       "count         2.569840e+05  195308.000000   1.953080e+05   \n",
       "mean          1.371331e+07    1251.116099   7.195272e+04   \n",
       "std           3.438131e+07    1762.016848   5.887757e+04   \n",
       "min           5.050000e+02     585.000000   0.000000e+00   \n",
       "25%           8.299000e+03     714.000000   4.432100e+04   \n",
       "50%           1.429800e+04     733.000000   6.124200e+04   \n",
       "75%           2.436700e+04     744.000000   8.646200e+04   \n",
       "max           1.000000e+08    7510.000000   8.713547e+06   \n",
       "\n",
       "       Years of Credit History  Months since last delinquent  \\\n",
       "count            256984.000000                 116601.000000   \n",
       "mean                 18.290195                     34.881450   \n",
       "std                   7.075747                     21.854165   \n",
       "min                   3.400000                      0.000000   \n",
       "25%                  13.500000                     16.000000   \n",
       "50%                  17.000000                     32.000000   \n",
       "75%                  21.700000                     51.000000   \n",
       "max                  70.500000                    176.000000   \n",
       "\n",
       "       Number of Open Accounts  Number of Credit Problems  \\\n",
       "count            256984.000000              256984.000000   \n",
       "mean                 11.106267                   0.156628   \n",
       "std                   4.982982                   0.460731   \n",
       "min                   0.000000                   0.000000   \n",
       "25%                   8.000000                   0.000000   \n",
       "50%                  10.000000                   0.000000   \n",
       "75%                  14.000000                   0.000000   \n",
       "max                  76.000000                  11.000000   \n",
       "\n",
       "       Current Credit Balance   Bankruptcies      Tax Liens  \n",
       "count            2.569840e+05  256455.000000  256961.000000  \n",
       "mean             1.540656e+04       0.110316       0.027203  \n",
       "std              1.966506e+04       0.336229       0.245950  \n",
       "min              0.000000e+00       0.000000       0.000000  \n",
       "25%              5.974000e+03       0.000000       0.000000  \n",
       "50%              1.107800e+04       0.000000       0.000000  \n",
       "75%              1.931900e+04       0.000000       0.000000  \n",
       "max              1.731412e+06       7.000000      11.000000  "
      ]
     },
     "execution_count": 7,
     "metadata": {},
     "output_type": "execute_result"
    }
   ],
   "source": [
    "df.describe()"
   ]
  },
  {
   "cell_type": "code",
   "execution_count": 8,
   "id": "21a24b8d",
   "metadata": {},
   "outputs": [
    {
     "data": {
      "text/html": [
       "<div>\n",
       "<style scoped>\n",
       "    .dataframe tbody tr th:only-of-type {\n",
       "        vertical-align: middle;\n",
       "    }\n",
       "\n",
       "    .dataframe tbody tr th {\n",
       "        vertical-align: top;\n",
       "    }\n",
       "\n",
       "    .dataframe thead th {\n",
       "        text-align: right;\n",
       "    }\n",
       "</style>\n",
       "<table border=\"1\" class=\"dataframe\">\n",
       "  <thead>\n",
       "    <tr style=\"text-align: right;\">\n",
       "      <th></th>\n",
       "      <th>Current Loan Amount</th>\n",
       "      <th>Credit Score</th>\n",
       "      <th>Annual Income</th>\n",
       "      <th>Years of Credit History</th>\n",
       "      <th>Months since last delinquent</th>\n",
       "      <th>Number of Open Accounts</th>\n",
       "      <th>Number of Credit Problems</th>\n",
       "      <th>Current Credit Balance</th>\n",
       "      <th>Bankruptcies</th>\n",
       "      <th>Tax Liens</th>\n",
       "    </tr>\n",
       "  </thead>\n",
       "  <tbody>\n",
       "    <tr>\n",
       "      <th>Current Loan Amount</th>\n",
       "      <td>1.000000</td>\n",
       "      <td>-0.139743</td>\n",
       "      <td>0.024069</td>\n",
       "      <td>0.014725</td>\n",
       "      <td>0.003488</td>\n",
       "      <td>-0.003094</td>\n",
       "      <td>-0.000062</td>\n",
       "      <td>0.003138</td>\n",
       "      <td>0.003576</td>\n",
       "      <td>-0.003069</td>\n",
       "    </tr>\n",
       "    <tr>\n",
       "      <th>Credit Score</th>\n",
       "      <td>-0.139743</td>\n",
       "      <td>1.000000</td>\n",
       "      <td>-0.033221</td>\n",
       "      <td>-0.011658</td>\n",
       "      <td>-0.007994</td>\n",
       "      <td>0.008124</td>\n",
       "      <td>0.000777</td>\n",
       "      <td>-0.003263</td>\n",
       "      <td>-0.003426</td>\n",
       "      <td>0.004381</td>\n",
       "    </tr>\n",
       "    <tr>\n",
       "      <th>Annual Income</th>\n",
       "      <td>0.024069</td>\n",
       "      <td>-0.033221</td>\n",
       "      <td>1.000000</td>\n",
       "      <td>0.146859</td>\n",
       "      <td>-0.059675</td>\n",
       "      <td>0.140463</td>\n",
       "      <td>-0.013672</td>\n",
       "      <td>0.292165</td>\n",
       "      <td>-0.044837</td>\n",
       "      <td>0.038185</td>\n",
       "    </tr>\n",
       "    <tr>\n",
       "      <th>Years of Credit History</th>\n",
       "      <td>0.014725</td>\n",
       "      <td>-0.011658</td>\n",
       "      <td>0.146859</td>\n",
       "      <td>1.000000</td>\n",
       "      <td>-0.039695</td>\n",
       "      <td>0.128033</td>\n",
       "      <td>0.061251</td>\n",
       "      <td>0.201001</td>\n",
       "      <td>0.062049</td>\n",
       "      <td>0.020915</td>\n",
       "    </tr>\n",
       "    <tr>\n",
       "      <th>Months since last delinquent</th>\n",
       "      <td>0.003488</td>\n",
       "      <td>-0.007994</td>\n",
       "      <td>-0.059675</td>\n",
       "      <td>-0.039695</td>\n",
       "      <td>1.000000</td>\n",
       "      <td>-0.035803</td>\n",
       "      <td>0.088612</td>\n",
       "      <td>-0.024292</td>\n",
       "      <td>0.112907</td>\n",
       "      <td>0.002730</td>\n",
       "    </tr>\n",
       "    <tr>\n",
       "      <th>Number of Open Accounts</th>\n",
       "      <td>-0.003094</td>\n",
       "      <td>0.008124</td>\n",
       "      <td>0.140463</td>\n",
       "      <td>0.128033</td>\n",
       "      <td>-0.035803</td>\n",
       "      <td>1.000000</td>\n",
       "      <td>-0.013731</td>\n",
       "      <td>0.222763</td>\n",
       "      <td>-0.022805</td>\n",
       "      <td>0.005754</td>\n",
       "    </tr>\n",
       "    <tr>\n",
       "      <th>Number of Credit Problems</th>\n",
       "      <td>-0.000062</td>\n",
       "      <td>0.000777</td>\n",
       "      <td>-0.013672</td>\n",
       "      <td>0.061251</td>\n",
       "      <td>0.088612</td>\n",
       "      <td>-0.013731</td>\n",
       "      <td>1.000000</td>\n",
       "      <td>-0.103814</td>\n",
       "      <td>0.755866</td>\n",
       "      <td>0.584917</td>\n",
       "    </tr>\n",
       "    <tr>\n",
       "      <th>Current Credit Balance</th>\n",
       "      <td>0.003138</td>\n",
       "      <td>-0.003263</td>\n",
       "      <td>0.292165</td>\n",
       "      <td>0.201001</td>\n",
       "      <td>-0.024292</td>\n",
       "      <td>0.222763</td>\n",
       "      <td>-0.103814</td>\n",
       "      <td>1.000000</td>\n",
       "      <td>-0.117995</td>\n",
       "      <td>-0.011118</td>\n",
       "    </tr>\n",
       "    <tr>\n",
       "      <th>Bankruptcies</th>\n",
       "      <td>0.003576</td>\n",
       "      <td>-0.003426</td>\n",
       "      <td>-0.044837</td>\n",
       "      <td>0.062049</td>\n",
       "      <td>0.112907</td>\n",
       "      <td>-0.022805</td>\n",
       "      <td>0.755866</td>\n",
       "      <td>-0.117995</td>\n",
       "      <td>1.000000</td>\n",
       "      <td>0.046160</td>\n",
       "    </tr>\n",
       "    <tr>\n",
       "      <th>Tax Liens</th>\n",
       "      <td>-0.003069</td>\n",
       "      <td>0.004381</td>\n",
       "      <td>0.038185</td>\n",
       "      <td>0.020915</td>\n",
       "      <td>0.002730</td>\n",
       "      <td>0.005754</td>\n",
       "      <td>0.584917</td>\n",
       "      <td>-0.011118</td>\n",
       "      <td>0.046160</td>\n",
       "      <td>1.000000</td>\n",
       "    </tr>\n",
       "  </tbody>\n",
       "</table>\n",
       "</div>"
      ],
      "text/plain": [
       "                              Current Loan Amount  Credit Score  \\\n",
       "Current Loan Amount                      1.000000     -0.139743   \n",
       "Credit Score                            -0.139743      1.000000   \n",
       "Annual Income                            0.024069     -0.033221   \n",
       "Years of Credit History                  0.014725     -0.011658   \n",
       "Months since last delinquent             0.003488     -0.007994   \n",
       "Number of Open Accounts                 -0.003094      0.008124   \n",
       "Number of Credit Problems               -0.000062      0.000777   \n",
       "Current Credit Balance                   0.003138     -0.003263   \n",
       "Bankruptcies                             0.003576     -0.003426   \n",
       "Tax Liens                               -0.003069      0.004381   \n",
       "\n",
       "                              Annual Income  Years of Credit History  \\\n",
       "Current Loan Amount                0.024069                 0.014725   \n",
       "Credit Score                      -0.033221                -0.011658   \n",
       "Annual Income                      1.000000                 0.146859   \n",
       "Years of Credit History            0.146859                 1.000000   \n",
       "Months since last delinquent      -0.059675                -0.039695   \n",
       "Number of Open Accounts            0.140463                 0.128033   \n",
       "Number of Credit Problems         -0.013672                 0.061251   \n",
       "Current Credit Balance             0.292165                 0.201001   \n",
       "Bankruptcies                      -0.044837                 0.062049   \n",
       "Tax Liens                          0.038185                 0.020915   \n",
       "\n",
       "                              Months since last delinquent  \\\n",
       "Current Loan Amount                               0.003488   \n",
       "Credit Score                                     -0.007994   \n",
       "Annual Income                                    -0.059675   \n",
       "Years of Credit History                          -0.039695   \n",
       "Months since last delinquent                      1.000000   \n",
       "Number of Open Accounts                          -0.035803   \n",
       "Number of Credit Problems                         0.088612   \n",
       "Current Credit Balance                           -0.024292   \n",
       "Bankruptcies                                      0.112907   \n",
       "Tax Liens                                         0.002730   \n",
       "\n",
       "                              Number of Open Accounts  \\\n",
       "Current Loan Amount                         -0.003094   \n",
       "Credit Score                                 0.008124   \n",
       "Annual Income                                0.140463   \n",
       "Years of Credit History                      0.128033   \n",
       "Months since last delinquent                -0.035803   \n",
       "Number of Open Accounts                      1.000000   \n",
       "Number of Credit Problems                   -0.013731   \n",
       "Current Credit Balance                       0.222763   \n",
       "Bankruptcies                                -0.022805   \n",
       "Tax Liens                                    0.005754   \n",
       "\n",
       "                              Number of Credit Problems  \\\n",
       "Current Loan Amount                           -0.000062   \n",
       "Credit Score                                   0.000777   \n",
       "Annual Income                                 -0.013672   \n",
       "Years of Credit History                        0.061251   \n",
       "Months since last delinquent                   0.088612   \n",
       "Number of Open Accounts                       -0.013731   \n",
       "Number of Credit Problems                      1.000000   \n",
       "Current Credit Balance                        -0.103814   \n",
       "Bankruptcies                                   0.755866   \n",
       "Tax Liens                                      0.584917   \n",
       "\n",
       "                              Current Credit Balance  Bankruptcies  Tax Liens  \n",
       "Current Loan Amount                         0.003138      0.003576  -0.003069  \n",
       "Credit Score                               -0.003263     -0.003426   0.004381  \n",
       "Annual Income                               0.292165     -0.044837   0.038185  \n",
       "Years of Credit History                     0.201001      0.062049   0.020915  \n",
       "Months since last delinquent               -0.024292      0.112907   0.002730  \n",
       "Number of Open Accounts                     0.222763     -0.022805   0.005754  \n",
       "Number of Credit Problems                  -0.103814      0.755866   0.584917  \n",
       "Current Credit Balance                      1.000000     -0.117995  -0.011118  \n",
       "Bankruptcies                               -0.117995      1.000000   0.046160  \n",
       "Tax Liens                                  -0.011118      0.046160   1.000000  "
      ]
     },
     "execution_count": 8,
     "metadata": {},
     "output_type": "execute_result"
    }
   ],
   "source": [
    "df.corr() #show whick column depends on which column as numbers"
   ]
  },
  {
   "cell_type": "code",
   "execution_count": 9,
   "id": "b4aba021",
   "metadata": {},
   "outputs": [
    {
     "data": {
      "text/plain": [
       "(256984, 19)"
      ]
     },
     "execution_count": 9,
     "metadata": {},
     "output_type": "execute_result"
    }
   ],
   "source": [
    "df.shape #number of rows and columns"
   ]
  },
  {
   "cell_type": "code",
   "execution_count": 10,
   "id": "8c030a64",
   "metadata": {},
   "outputs": [
    {
     "data": {
      "text/plain": [
       "Index(['Loan ID', 'Customer ID', 'Loan Status', 'Current Loan Amount', 'Term',\n",
       "       'Credit Score', 'Years in current job', 'Home Ownership',\n",
       "       'Annual Income', 'Purpose', 'Monthly Debt', 'Years of Credit History',\n",
       "       'Months since last delinquent', 'Number of Open Accounts',\n",
       "       'Number of Credit Problems', 'Current Credit Balance',\n",
       "       'Maximum Open Credit', 'Bankruptcies', 'Tax Liens'],\n",
       "      dtype='object')"
      ]
     },
     "execution_count": 10,
     "metadata": {},
     "output_type": "execute_result"
    }
   ],
   "source": [
    "df.columns"
   ]
  },
  {
   "cell_type": "code",
   "execution_count": 11,
   "id": "99956cba",
   "metadata": {},
   "outputs": [
    {
     "data": {
      "text/plain": [
       "747.0     5669\n",
       "740.0     5537\n",
       "741.0     5499\n",
       "746.0     5486\n",
       "742.0     5219\n",
       "          ... \n",
       "6070.0       3\n",
       "5980.0       3\n",
       "5910.0       3\n",
       "5930.0       2\n",
       "5860.0       1\n",
       "Name: Credit Score, Length: 334, dtype: int64"
      ]
     },
     "execution_count": 11,
     "metadata": {},
     "output_type": "execute_result"
    }
   ],
   "source": [
    "df['Credit Score'].value_counts() "
   ]
  },
  {
   "cell_type": "code",
   "execution_count": 12,
   "id": "627239ff",
   "metadata": {},
   "outputs": [
    {
     "data": {
      "text/plain": [
       "Loan ID                              0\n",
       "Customer ID                          0\n",
       "Loan Status                          0\n",
       "Current Loan Amount                  0\n",
       "Term                                 0\n",
       "Credit Score                     61676\n",
       "Years in current job             11476\n",
       "Home Ownership                       0\n",
       "Annual Income                    61676\n",
       "Purpose                              0\n",
       "Monthly Debt                         0\n",
       "Years of Credit History              0\n",
       "Months since last delinquent    140383\n",
       "Number of Open Accounts              0\n",
       "Number of Credit Problems            0\n",
       "Current Credit Balance               0\n",
       "Maximum Open Credit                  0\n",
       "Bankruptcies                       529\n",
       "Tax Liens                           23\n",
       "dtype: int64"
      ]
     },
     "execution_count": 12,
     "metadata": {},
     "output_type": "execute_result"
    }
   ],
   "source": [
    "df.isnull().sum()"
   ]
  },
  {
   "cell_type": "code",
   "execution_count": 13,
   "id": "2c4bfa27",
   "metadata": {},
   "outputs": [],
   "source": [
    "df.loc[df['Credit Score'] < 700,'Credit Score'] = 0\n",
    "df.loc[df['Credit Score'] >= 700,'Credit Score'] = 1"
   ]
  },
  {
   "cell_type": "code",
   "execution_count": 14,
   "id": "7b7520dc",
   "metadata": {},
   "outputs": [],
   "source": [
    "df.drop(columns=['Years in current job','Monthly Debt','Loan ID'], axis=1, inplace=True)"
   ]
  },
  {
   "cell_type": "code",
   "execution_count": 15,
   "id": "5d97397a",
   "metadata": {},
   "outputs": [
    {
     "data": {
      "text/html": [
       "<div>\n",
       "<style scoped>\n",
       "    .dataframe tbody tr th:only-of-type {\n",
       "        vertical-align: middle;\n",
       "    }\n",
       "\n",
       "    .dataframe tbody tr th {\n",
       "        vertical-align: top;\n",
       "    }\n",
       "\n",
       "    .dataframe thead th {\n",
       "        text-align: right;\n",
       "    }\n",
       "</style>\n",
       "<table border=\"1\" class=\"dataframe\">\n",
       "  <thead>\n",
       "    <tr style=\"text-align: right;\">\n",
       "      <th></th>\n",
       "      <th>Customer ID</th>\n",
       "      <th>Loan Status</th>\n",
       "      <th>Current Loan Amount</th>\n",
       "      <th>Term</th>\n",
       "      <th>Credit Score</th>\n",
       "      <th>Home Ownership</th>\n",
       "      <th>Annual Income</th>\n",
       "      <th>Purpose</th>\n",
       "      <th>Years of Credit History</th>\n",
       "      <th>Months since last delinquent</th>\n",
       "      <th>Number of Open Accounts</th>\n",
       "      <th>Number of Credit Problems</th>\n",
       "      <th>Current Credit Balance</th>\n",
       "      <th>Maximum Open Credit</th>\n",
       "      <th>Bankruptcies</th>\n",
       "      <th>Tax Liens</th>\n",
       "    </tr>\n",
       "  </thead>\n",
       "  <tbody>\n",
       "    <tr>\n",
       "      <th>105482</th>\n",
       "      <td>617f8684-328c-49e4-bf67-57f813023e6d</td>\n",
       "      <td>Charged Off</td>\n",
       "      <td>7580</td>\n",
       "      <td>Short Term</td>\n",
       "      <td>1.0</td>\n",
       "      <td>Rent</td>\n",
       "      <td>25431.0</td>\n",
       "      <td>Business Loan</td>\n",
       "      <td>11.2</td>\n",
       "      <td>NaN</td>\n",
       "      <td>5</td>\n",
       "      <td>0</td>\n",
       "      <td>10401</td>\n",
       "      <td>14547</td>\n",
       "      <td>0.0</td>\n",
       "      <td>0.0</td>\n",
       "    </tr>\n",
       "    <tr>\n",
       "      <th>131309</th>\n",
       "      <td>1a9052d1-847f-400b-ae79-185e101c0c6e</td>\n",
       "      <td>Fully Paid</td>\n",
       "      <td>22579</td>\n",
       "      <td>Short Term</td>\n",
       "      <td>1.0</td>\n",
       "      <td>Home Mortgage</td>\n",
       "      <td>64370.0</td>\n",
       "      <td>Debt Consolidation</td>\n",
       "      <td>17.0</td>\n",
       "      <td>NaN</td>\n",
       "      <td>9</td>\n",
       "      <td>0</td>\n",
       "      <td>11857</td>\n",
       "      <td>41313</td>\n",
       "      <td>0.0</td>\n",
       "      <td>0.0</td>\n",
       "    </tr>\n",
       "    <tr>\n",
       "      <th>144216</th>\n",
       "      <td>afdb6fc0-3bdb-4a10-8f3e-5644b0039ca8</td>\n",
       "      <td>Charged Off</td>\n",
       "      <td>8064</td>\n",
       "      <td>Short Term</td>\n",
       "      <td>1.0</td>\n",
       "      <td>Home Mortgage</td>\n",
       "      <td>105840.0</td>\n",
       "      <td>Debt Consolidation</td>\n",
       "      <td>21.5</td>\n",
       "      <td>11.0</td>\n",
       "      <td>10</td>\n",
       "      <td>0</td>\n",
       "      <td>8560</td>\n",
       "      <td>21781</td>\n",
       "      <td>0.0</td>\n",
       "      <td>0.0</td>\n",
       "    </tr>\n",
       "    <tr>\n",
       "      <th>41911</th>\n",
       "      <td>6dca2eec-5fd0-4b92-9674-ca5c21b83ad1</td>\n",
       "      <td>Charged Off</td>\n",
       "      <td>28448</td>\n",
       "      <td>Long Term</td>\n",
       "      <td>1.0</td>\n",
       "      <td>Home Mortgage</td>\n",
       "      <td>75060.0</td>\n",
       "      <td>Debt Consolidation</td>\n",
       "      <td>11.1</td>\n",
       "      <td>NaN</td>\n",
       "      <td>13</td>\n",
       "      <td>0</td>\n",
       "      <td>34259</td>\n",
       "      <td>43810</td>\n",
       "      <td>0.0</td>\n",
       "      <td>0.0</td>\n",
       "    </tr>\n",
       "    <tr>\n",
       "      <th>10032</th>\n",
       "      <td>43d35355-72e9-40f2-9ab2-a0af03f9263c</td>\n",
       "      <td>Charged Off</td>\n",
       "      <td>21170</td>\n",
       "      <td>Long Term</td>\n",
       "      <td>1.0</td>\n",
       "      <td>Home Mortgage</td>\n",
       "      <td>111435.0</td>\n",
       "      <td>Debt Consolidation</td>\n",
       "      <td>22.4</td>\n",
       "      <td>25.0</td>\n",
       "      <td>16</td>\n",
       "      <td>0</td>\n",
       "      <td>37660</td>\n",
       "      <td>44357</td>\n",
       "      <td>0.0</td>\n",
       "      <td>0.0</td>\n",
       "    </tr>\n",
       "  </tbody>\n",
       "</table>\n",
       "</div>"
      ],
      "text/plain": [
       "                                 Customer ID  Loan Status  \\\n",
       "105482  617f8684-328c-49e4-bf67-57f813023e6d  Charged Off   \n",
       "131309  1a9052d1-847f-400b-ae79-185e101c0c6e   Fully Paid   \n",
       "144216  afdb6fc0-3bdb-4a10-8f3e-5644b0039ca8  Charged Off   \n",
       "41911   6dca2eec-5fd0-4b92-9674-ca5c21b83ad1  Charged Off   \n",
       "10032   43d35355-72e9-40f2-9ab2-a0af03f9263c  Charged Off   \n",
       "\n",
       "        Current Loan Amount        Term  Credit Score Home Ownership  \\\n",
       "105482                 7580  Short Term           1.0           Rent   \n",
       "131309                22579  Short Term           1.0  Home Mortgage   \n",
       "144216                 8064  Short Term           1.0  Home Mortgage   \n",
       "41911                 28448   Long Term           1.0  Home Mortgage   \n",
       "10032                 21170   Long Term           1.0  Home Mortgage   \n",
       "\n",
       "        Annual Income             Purpose  Years of Credit History  \\\n",
       "105482        25431.0       Business Loan                     11.2   \n",
       "131309        64370.0  Debt Consolidation                     17.0   \n",
       "144216       105840.0  Debt Consolidation                     21.5   \n",
       "41911         75060.0  Debt Consolidation                     11.1   \n",
       "10032        111435.0  Debt Consolidation                     22.4   \n",
       "\n",
       "        Months since last delinquent  Number of Open Accounts  \\\n",
       "105482                           NaN                        5   \n",
       "131309                           NaN                        9   \n",
       "144216                          11.0                       10   \n",
       "41911                            NaN                       13   \n",
       "10032                           25.0                       16   \n",
       "\n",
       "        Number of Credit Problems  Current Credit Balance Maximum Open Credit  \\\n",
       "105482                          0                   10401               14547   \n",
       "131309                          0                   11857               41313   \n",
       "144216                          0                    8560               21781   \n",
       "41911                           0                   34259               43810   \n",
       "10032                           0                   37660               44357   \n",
       "\n",
       "        Bankruptcies  Tax Liens  \n",
       "105482           0.0        0.0  \n",
       "131309           0.0        0.0  \n",
       "144216           0.0        0.0  \n",
       "41911            0.0        0.0  \n",
       "10032            0.0        0.0  "
      ]
     },
     "execution_count": 15,
     "metadata": {},
     "output_type": "execute_result"
    }
   ],
   "source": [
    "df.sample(5)"
   ]
  },
  {
   "cell_type": "code",
   "execution_count": 16,
   "id": "0305c411",
   "metadata": {},
   "outputs": [],
   "source": [
    "df['Annual Income'] = df['Annual Income'].fillna(df['Annual Income'].mean())\n",
    "df['Months since last delinquent'] = df['Months since last delinquent'].fillna(df['Months since last delinquent'].mean())\n",
    "df['Bankruptcies'] = df['Bankruptcies'].fillna(df['Bankruptcies'].mean())\n",
    "df['Tax Liens'] = df['Tax Liens'].fillna(df['Tax Liens'].mean())"
   ]
  },
  {
   "cell_type": "code",
   "execution_count": 17,
   "id": "3565eefd",
   "metadata": {},
   "outputs": [
    {
     "data": {
      "text/plain": [
       "Customer ID                         0\n",
       "Loan Status                         0\n",
       "Current Loan Amount                 0\n",
       "Term                                0\n",
       "Credit Score                    61676\n",
       "Home Ownership                      0\n",
       "Annual Income                       0\n",
       "Purpose                             0\n",
       "Years of Credit History             0\n",
       "Months since last delinquent        0\n",
       "Number of Open Accounts             0\n",
       "Number of Credit Problems           0\n",
       "Current Credit Balance              0\n",
       "Maximum Open Credit                 0\n",
       "Bankruptcies                        0\n",
       "Tax Liens                           0\n",
       "dtype: int64"
      ]
     },
     "execution_count": 17,
     "metadata": {},
     "output_type": "execute_result"
    }
   ],
   "source": [
    "df.isnull().sum() #show empty columns numbers"
   ]
  },
  {
   "cell_type": "code",
   "execution_count": 18,
   "id": "763c772d",
   "metadata": {},
   "outputs": [],
   "source": [
    "df=df.sample(50000)"
   ]
  },
  {
   "cell_type": "code",
   "execution_count": 19,
   "id": "665d9e0f",
   "metadata": {},
   "outputs": [
    {
     "data": {
      "text/plain": [
       "(50000, 16)"
      ]
     },
     "execution_count": 19,
     "metadata": {},
     "output_type": "execute_result"
    }
   ],
   "source": [
    "df.shape"
   ]
  },
  {
   "cell_type": "code",
   "execution_count": 20,
   "id": "cf18dc14",
   "metadata": {},
   "outputs": [],
   "source": [
    "bos = df[df['Credit Score'].isnull()] # we got the empty value"
   ]
  },
  {
   "cell_type": "code",
   "execution_count": 21,
   "id": "522c8d60",
   "metadata": {},
   "outputs": [
    {
     "data": {
      "text/plain": [
       "(12003, 16)"
      ]
     },
     "execution_count": 21,
     "metadata": {},
     "output_type": "execute_result"
    }
   ],
   "source": [
    "bos.shape"
   ]
  },
  {
   "cell_type": "code",
   "execution_count": 22,
   "id": "56c8d453",
   "metadata": {},
   "outputs": [],
   "source": [
    "dolu = df[df['Credit Score'].notnull()] "
   ]
  },
  {
   "cell_type": "code",
   "execution_count": 23,
   "id": "5afe7b8c",
   "metadata": {},
   "outputs": [
    {
     "data": {
      "text/plain": [
       "(37997, 16)"
      ]
     },
     "execution_count": 23,
     "metadata": {},
     "output_type": "execute_result"
    }
   ],
   "source": [
    "dolu.shape"
   ]
  },
  {
   "cell_type": "code",
   "execution_count": 24,
   "id": "49f7152d",
   "metadata": {},
   "outputs": [],
   "source": [
    "x=dolu.drop(\"Credit Score\",axis=1)\n",
    "y=dolu[\"Credit Score\"]"
   ]
  },
  {
   "cell_type": "code",
   "execution_count": 25,
   "id": "78ddbee4",
   "metadata": {},
   "outputs": [
    {
     "data": {
      "text/html": [
       "<div>\n",
       "<style scoped>\n",
       "    .dataframe tbody tr th:only-of-type {\n",
       "        vertical-align: middle;\n",
       "    }\n",
       "\n",
       "    .dataframe tbody tr th {\n",
       "        vertical-align: top;\n",
       "    }\n",
       "\n",
       "    .dataframe thead th {\n",
       "        text-align: right;\n",
       "    }\n",
       "</style>\n",
       "<table border=\"1\" class=\"dataframe\">\n",
       "  <thead>\n",
       "    <tr style=\"text-align: right;\">\n",
       "      <th></th>\n",
       "      <th>Customer ID</th>\n",
       "      <th>Loan Status</th>\n",
       "      <th>Current Loan Amount</th>\n",
       "      <th>Term</th>\n",
       "      <th>Home Ownership</th>\n",
       "      <th>Annual Income</th>\n",
       "      <th>Purpose</th>\n",
       "      <th>Years of Credit History</th>\n",
       "      <th>Months since last delinquent</th>\n",
       "      <th>Number of Open Accounts</th>\n",
       "      <th>Number of Credit Problems</th>\n",
       "      <th>Current Credit Balance</th>\n",
       "      <th>Maximum Open Credit</th>\n",
       "      <th>Bankruptcies</th>\n",
       "      <th>Tax Liens</th>\n",
       "    </tr>\n",
       "  </thead>\n",
       "  <tbody>\n",
       "    <tr>\n",
       "      <th>143027</th>\n",
       "      <td>01868197-0b6a-49b7-b3f9-36aef125d39c</td>\n",
       "      <td>Charged Off</td>\n",
       "      <td>13309</td>\n",
       "      <td>Long Term</td>\n",
       "      <td>Home Mortgage</td>\n",
       "      <td>92967.0</td>\n",
       "      <td>Debt Consolidation</td>\n",
       "      <td>13.6</td>\n",
       "      <td>76.00000</td>\n",
       "      <td>13</td>\n",
       "      <td>0</td>\n",
       "      <td>3882</td>\n",
       "      <td>12132</td>\n",
       "      <td>0.0</td>\n",
       "      <td>0.0</td>\n",
       "    </tr>\n",
       "    <tr>\n",
       "      <th>252027</th>\n",
       "      <td>78577b23-662e-4b9b-a9f2-1d825cef66ed</td>\n",
       "      <td>Charged Off</td>\n",
       "      <td>35291</td>\n",
       "      <td>Long Term</td>\n",
       "      <td>Rent</td>\n",
       "      <td>110913.0</td>\n",
       "      <td>Debt Consolidation</td>\n",
       "      <td>8.3</td>\n",
       "      <td>34.88145</td>\n",
       "      <td>15</td>\n",
       "      <td>0</td>\n",
       "      <td>39310</td>\n",
       "      <td>54146</td>\n",
       "      <td>0.0</td>\n",
       "      <td>0.0</td>\n",
       "    </tr>\n",
       "    <tr>\n",
       "      <th>110776</th>\n",
       "      <td>e56e91e0-9db6-4b1b-80b2-268d3db256af</td>\n",
       "      <td>Fully Paid</td>\n",
       "      <td>6124</td>\n",
       "      <td>Short Term</td>\n",
       "      <td>Rent</td>\n",
       "      <td>51035.0</td>\n",
       "      <td>Debt Consolidation</td>\n",
       "      <td>10.0</td>\n",
       "      <td>34.88145</td>\n",
       "      <td>14</td>\n",
       "      <td>0</td>\n",
       "      <td>7392</td>\n",
       "      <td>12968</td>\n",
       "      <td>0.0</td>\n",
       "      <td>0.0</td>\n",
       "    </tr>\n",
       "    <tr>\n",
       "      <th>151642</th>\n",
       "      <td>c6401b61-e913-42dd-aae7-c5734664de58</td>\n",
       "      <td>Fully Paid</td>\n",
       "      <td>4760</td>\n",
       "      <td>Short Term</td>\n",
       "      <td>Home Mortgage</td>\n",
       "      <td>41647.0</td>\n",
       "      <td>Medical Bills</td>\n",
       "      <td>13.6</td>\n",
       "      <td>17.00000</td>\n",
       "      <td>12</td>\n",
       "      <td>0</td>\n",
       "      <td>7802</td>\n",
       "      <td>11114</td>\n",
       "      <td>0.0</td>\n",
       "      <td>0.0</td>\n",
       "    </tr>\n",
       "    <tr>\n",
       "      <th>206961</th>\n",
       "      <td>79834fea-26ff-4bf8-a309-7d10c1ef8872</td>\n",
       "      <td>Fully Paid</td>\n",
       "      <td>99999999</td>\n",
       "      <td>Short Term</td>\n",
       "      <td>Home Mortgage</td>\n",
       "      <td>122064.0</td>\n",
       "      <td>Debt Consolidation</td>\n",
       "      <td>12.4</td>\n",
       "      <td>34.88145</td>\n",
       "      <td>24</td>\n",
       "      <td>0</td>\n",
       "      <td>8455</td>\n",
       "      <td>32027</td>\n",
       "      <td>0.0</td>\n",
       "      <td>0.0</td>\n",
       "    </tr>\n",
       "    <tr>\n",
       "      <th>...</th>\n",
       "      <td>...</td>\n",
       "      <td>...</td>\n",
       "      <td>...</td>\n",
       "      <td>...</td>\n",
       "      <td>...</td>\n",
       "      <td>...</td>\n",
       "      <td>...</td>\n",
       "      <td>...</td>\n",
       "      <td>...</td>\n",
       "      <td>...</td>\n",
       "      <td>...</td>\n",
       "      <td>...</td>\n",
       "      <td>...</td>\n",
       "      <td>...</td>\n",
       "      <td>...</td>\n",
       "    </tr>\n",
       "    <tr>\n",
       "      <th>117402</th>\n",
       "      <td>85f0a0d4-0715-45d6-8307-f86eecad307c</td>\n",
       "      <td>Fully Paid</td>\n",
       "      <td>1996</td>\n",
       "      <td>Short Term</td>\n",
       "      <td>Rent</td>\n",
       "      <td>52894.0</td>\n",
       "      <td>Debt Consolidation</td>\n",
       "      <td>16.6</td>\n",
       "      <td>11.00000</td>\n",
       "      <td>17</td>\n",
       "      <td>0</td>\n",
       "      <td>1038</td>\n",
       "      <td>26614</td>\n",
       "      <td>0.0</td>\n",
       "      <td>0.0</td>\n",
       "    </tr>\n",
       "    <tr>\n",
       "      <th>41976</th>\n",
       "      <td>60213c63-a8ef-478c-b119-12d9e130488d</td>\n",
       "      <td>Fully Paid</td>\n",
       "      <td>22310</td>\n",
       "      <td>Short Term</td>\n",
       "      <td>Rent</td>\n",
       "      <td>45635.0</td>\n",
       "      <td>Debt Consolidation</td>\n",
       "      <td>23.0</td>\n",
       "      <td>34.88145</td>\n",
       "      <td>9</td>\n",
       "      <td>0</td>\n",
       "      <td>18970</td>\n",
       "      <td>28398</td>\n",
       "      <td>0.0</td>\n",
       "      <td>0.0</td>\n",
       "    </tr>\n",
       "    <tr>\n",
       "      <th>224714</th>\n",
       "      <td>8355d8c3-bf2d-419e-b868-fcdd2120c343</td>\n",
       "      <td>Fully Paid</td>\n",
       "      <td>5099</td>\n",
       "      <td>Short Term</td>\n",
       "      <td>Rent</td>\n",
       "      <td>28697.0</td>\n",
       "      <td>Debt Consolidation</td>\n",
       "      <td>16.4</td>\n",
       "      <td>68.00000</td>\n",
       "      <td>5</td>\n",
       "      <td>0</td>\n",
       "      <td>2984</td>\n",
       "      <td>5101</td>\n",
       "      <td>0.0</td>\n",
       "      <td>0.0</td>\n",
       "    </tr>\n",
       "    <tr>\n",
       "      <th>175831</th>\n",
       "      <td>1b27db3c-3d4b-4a70-a2dc-9a0bbb29d759</td>\n",
       "      <td>Fully Paid</td>\n",
       "      <td>12287</td>\n",
       "      <td>Long Term</td>\n",
       "      <td>Home Mortgage</td>\n",
       "      <td>81912.0</td>\n",
       "      <td>Debt Consolidation</td>\n",
       "      <td>9.2</td>\n",
       "      <td>34.88145</td>\n",
       "      <td>8</td>\n",
       "      <td>1</td>\n",
       "      <td>6718</td>\n",
       "      <td>12894</td>\n",
       "      <td>1.0</td>\n",
       "      <td>0.0</td>\n",
       "    </tr>\n",
       "    <tr>\n",
       "      <th>85696</th>\n",
       "      <td>e75d32e0-6c63-4b9e-899b-f6976255e0d1</td>\n",
       "      <td>Charged Off</td>\n",
       "      <td>8915</td>\n",
       "      <td>Short Term</td>\n",
       "      <td>Rent</td>\n",
       "      <td>83202.0</td>\n",
       "      <td>Debt Consolidation</td>\n",
       "      <td>13.3</td>\n",
       "      <td>48.00000</td>\n",
       "      <td>9</td>\n",
       "      <td>0</td>\n",
       "      <td>9463</td>\n",
       "      <td>28764</td>\n",
       "      <td>0.0</td>\n",
       "      <td>0.0</td>\n",
       "    </tr>\n",
       "  </tbody>\n",
       "</table>\n",
       "<p>37997 rows × 15 columns</p>\n",
       "</div>"
      ],
      "text/plain": [
       "                                 Customer ID  Loan Status  \\\n",
       "143027  01868197-0b6a-49b7-b3f9-36aef125d39c  Charged Off   \n",
       "252027  78577b23-662e-4b9b-a9f2-1d825cef66ed  Charged Off   \n",
       "110776  e56e91e0-9db6-4b1b-80b2-268d3db256af   Fully Paid   \n",
       "151642  c6401b61-e913-42dd-aae7-c5734664de58   Fully Paid   \n",
       "206961  79834fea-26ff-4bf8-a309-7d10c1ef8872   Fully Paid   \n",
       "...                                      ...          ...   \n",
       "117402  85f0a0d4-0715-45d6-8307-f86eecad307c   Fully Paid   \n",
       "41976   60213c63-a8ef-478c-b119-12d9e130488d   Fully Paid   \n",
       "224714  8355d8c3-bf2d-419e-b868-fcdd2120c343   Fully Paid   \n",
       "175831  1b27db3c-3d4b-4a70-a2dc-9a0bbb29d759   Fully Paid   \n",
       "85696   e75d32e0-6c63-4b9e-899b-f6976255e0d1  Charged Off   \n",
       "\n",
       "        Current Loan Amount        Term Home Ownership  Annual Income  \\\n",
       "143027                13309   Long Term  Home Mortgage        92967.0   \n",
       "252027                35291   Long Term           Rent       110913.0   \n",
       "110776                 6124  Short Term           Rent        51035.0   \n",
       "151642                 4760  Short Term  Home Mortgage        41647.0   \n",
       "206961             99999999  Short Term  Home Mortgage       122064.0   \n",
       "...                     ...         ...            ...            ...   \n",
       "117402                 1996  Short Term           Rent        52894.0   \n",
       "41976                 22310  Short Term           Rent        45635.0   \n",
       "224714                 5099  Short Term           Rent        28697.0   \n",
       "175831                12287   Long Term  Home Mortgage        81912.0   \n",
       "85696                  8915  Short Term           Rent        83202.0   \n",
       "\n",
       "                   Purpose  Years of Credit History  \\\n",
       "143027  Debt Consolidation                     13.6   \n",
       "252027  Debt Consolidation                      8.3   \n",
       "110776  Debt Consolidation                     10.0   \n",
       "151642       Medical Bills                     13.6   \n",
       "206961  Debt Consolidation                     12.4   \n",
       "...                    ...                      ...   \n",
       "117402  Debt Consolidation                     16.6   \n",
       "41976   Debt Consolidation                     23.0   \n",
       "224714  Debt Consolidation                     16.4   \n",
       "175831  Debt Consolidation                      9.2   \n",
       "85696   Debt Consolidation                     13.3   \n",
       "\n",
       "        Months since last delinquent  Number of Open Accounts  \\\n",
       "143027                      76.00000                       13   \n",
       "252027                      34.88145                       15   \n",
       "110776                      34.88145                       14   \n",
       "151642                      17.00000                       12   \n",
       "206961                      34.88145                       24   \n",
       "...                              ...                      ...   \n",
       "117402                      11.00000                       17   \n",
       "41976                       34.88145                        9   \n",
       "224714                      68.00000                        5   \n",
       "175831                      34.88145                        8   \n",
       "85696                       48.00000                        9   \n",
       "\n",
       "        Number of Credit Problems  Current Credit Balance Maximum Open Credit  \\\n",
       "143027                          0                    3882               12132   \n",
       "252027                          0                   39310               54146   \n",
       "110776                          0                    7392               12968   \n",
       "151642                          0                    7802               11114   \n",
       "206961                          0                    8455               32027   \n",
       "...                           ...                     ...                 ...   \n",
       "117402                          0                    1038               26614   \n",
       "41976                           0                   18970               28398   \n",
       "224714                          0                    2984                5101   \n",
       "175831                          1                    6718               12894   \n",
       "85696                           0                    9463               28764   \n",
       "\n",
       "        Bankruptcies  Tax Liens  \n",
       "143027           0.0        0.0  \n",
       "252027           0.0        0.0  \n",
       "110776           0.0        0.0  \n",
       "151642           0.0        0.0  \n",
       "206961           0.0        0.0  \n",
       "...              ...        ...  \n",
       "117402           0.0        0.0  \n",
       "41976            0.0        0.0  \n",
       "224714           0.0        0.0  \n",
       "175831           1.0        0.0  \n",
       "85696            0.0        0.0  \n",
       "\n",
       "[37997 rows x 15 columns]"
      ]
     },
     "execution_count": 25,
     "metadata": {},
     "output_type": "execute_result"
    }
   ],
   "source": [
    "x"
   ]
  },
  {
   "cell_type": "code",
   "execution_count": 26,
   "id": "ece9ce20",
   "metadata": {},
   "outputs": [
    {
     "data": {
      "text/plain": [
       "143027    0.0\n",
       "252027    1.0\n",
       "110776    1.0\n",
       "151642    1.0\n",
       "206961    1.0\n",
       "         ... \n",
       "117402    1.0\n",
       "41976     1.0\n",
       "224714    1.0\n",
       "175831    0.0\n",
       "85696     1.0\n",
       "Name: Credit Score, Length: 37997, dtype: float64"
      ]
     },
     "execution_count": 26,
     "metadata": {},
     "output_type": "execute_result"
    }
   ],
   "source": [
    "y"
   ]
  },
  {
   "cell_type": "code",
   "execution_count": 27,
   "id": "bd02323c",
   "metadata": {},
   "outputs": [],
   "source": [
    "x=pd.get_dummies(x,drop_first=True) #data model ready"
   ]
  },
  {
   "cell_type": "code",
   "execution_count": 28,
   "id": "e7926b9c",
   "metadata": {},
   "outputs": [],
   "source": [
    "from sklearn.naive_bayes import GaussianNB\n",
    "from sklearn.naive_bayes import BernoulliNB"
   ]
  },
  {
   "cell_type": "code",
   "execution_count": 29,
   "id": "817d9dc2",
   "metadata": {},
   "outputs": [],
   "source": [
    "g= GaussianNB()\n",
    "b= BernoulliNB()"
   ]
  },
  {
   "cell_type": "code",
   "execution_count": 30,
   "id": "0093e46f",
   "metadata": {},
   "outputs": [
    {
     "data": {
      "text/plain": [
       "GaussianNB()"
      ]
     },
     "execution_count": 30,
     "metadata": {},
     "output_type": "execute_result"
    }
   ],
   "source": [
    "g.fit(x,y)"
   ]
  },
  {
   "cell_type": "code",
   "execution_count": 31,
   "id": "45c25141",
   "metadata": {},
   "outputs": [
    {
     "data": {
      "text/plain": [
       "BernoulliNB()"
      ]
     },
     "execution_count": 31,
     "metadata": {},
     "output_type": "execute_result"
    }
   ],
   "source": [
    "b.fit(x,y)"
   ]
  },
  {
   "cell_type": "code",
   "execution_count": null,
   "id": "fb3a6684",
   "metadata": {},
   "outputs": [],
   "source": [
    "#models trained"
   ]
  },
  {
   "cell_type": "code",
   "execution_count": 32,
   "id": "a571e339",
   "metadata": {},
   "outputs": [],
   "source": [
    "from sklearn.metrics import accuracy_score, precision_score, recall_score,f1_score,confusion_matrix,classification_report"
   ]
  },
  {
   "cell_type": "code",
   "execution_count": 33,
   "id": "19cbeac0",
   "metadata": {},
   "outputs": [],
   "source": [
    "tahmin1=g.predict(x)\n",
    "tahmin2=b.predict(x)"
   ]
  },
  {
   "cell_type": "code",
   "execution_count": 34,
   "id": "455b1aab",
   "metadata": {},
   "outputs": [
    {
     "data": {
      "text/plain": [
       "0.8409874463773456"
      ]
     },
     "execution_count": 34,
     "metadata": {},
     "output_type": "execute_result"
    }
   ],
   "source": [
    "accuracy_score(tahmin1,y)"
   ]
  },
  {
   "cell_type": "code",
   "execution_count": 35,
   "id": "bcf5d2e8",
   "metadata": {},
   "outputs": [
    {
     "data": {
      "text/plain": [
       "0.8438297760349501"
      ]
     },
     "execution_count": 35,
     "metadata": {},
     "output_type": "execute_result"
    }
   ],
   "source": [
    "accuracy_score(tahmin2,y)"
   ]
  },
  {
   "cell_type": "code",
   "execution_count": 36,
   "id": "2cd0636f",
   "metadata": {},
   "outputs": [
    {
     "data": {
      "text/plain": [
       "1.0"
      ]
     },
     "execution_count": 36,
     "metadata": {},
     "output_type": "execute_result"
    }
   ],
   "source": [
    "precision_score(tahmin2,y)"
   ]
  },
  {
   "cell_type": "code",
   "execution_count": 37,
   "id": "c167c3e5",
   "metadata": {},
   "outputs": [
    {
     "data": {
      "text/plain": [
       "array([[    0,     0],\n",
       "       [ 5934, 32063]])"
      ]
     },
     "execution_count": 37,
     "metadata": {},
     "output_type": "execute_result"
    }
   ],
   "source": [
    "confusion_matrix(tahmin2,y) #True Positive, False Negative, False Positive, True Negative"
   ]
  },
  {
   "cell_type": "code",
   "execution_count": 38,
   "id": "c4ec7ce3",
   "metadata": {},
   "outputs": [
    {
     "data": {
      "text/plain": [
       "array([[   35,   143],\n",
       "       [ 5899, 31920]])"
      ]
     },
     "execution_count": 38,
     "metadata": {},
     "output_type": "execute_result"
    }
   ],
   "source": [
    "confusion_matrix(tahmin1,y)"
   ]
  },
  {
   "cell_type": "code",
   "execution_count": 39,
   "id": "6b30cebc",
   "metadata": {},
   "outputs": [
    {
     "name": "stdout",
     "output_type": "stream",
     "text": [
      "              precision    recall  f1-score   support\n",
      "\n",
      "         0.0       0.01      0.20      0.01       178\n",
      "         1.0       1.00      0.84      0.91     37819\n",
      "\n",
      "    accuracy                           0.84     37997\n",
      "   macro avg       0.50      0.52      0.46     37997\n",
      "weighted avg       0.99      0.84      0.91     37997\n",
      "\n"
     ]
    }
   ],
   "source": [
    "print(classification_report(tahmin1,y))#prints all predictions"
   ]
  },
  {
   "cell_type": "code",
   "execution_count": 40,
   "id": "441aefcb",
   "metadata": {},
   "outputs": [
    {
     "name": "stdout",
     "output_type": "stream",
     "text": [
      "              precision    recall  f1-score   support\n",
      "\n",
      "         0.0       0.00      0.00      0.00         0\n",
      "         1.0       1.00      0.84      0.92     37997\n",
      "\n",
      "    accuracy                           0.84     37997\n",
      "   macro avg       0.50      0.42      0.46     37997\n",
      "weighted avg       1.00      0.84      0.92     37997\n",
      "\n"
     ]
    }
   ],
   "source": [
    "print(classification_report(tahmin2,y))"
   ]
  },
  {
   "cell_type": "code",
   "execution_count": 41,
   "id": "3ba96879",
   "metadata": {},
   "outputs": [],
   "source": [
    "from sklearn.neighbors import KNeighborsClassifier\n",
    "k= KNeighborsClassifier()"
   ]
  },
  {
   "cell_type": "code",
   "execution_count": 42,
   "id": "65176018",
   "metadata": {},
   "outputs": [
    {
     "data": {
      "text/plain": [
       "KNeighborsClassifier()"
      ]
     },
     "execution_count": 42,
     "metadata": {},
     "output_type": "execute_result"
    }
   ],
   "source": [
    "k.fit(x,y)"
   ]
  },
  {
   "cell_type": "code",
   "execution_count": 43,
   "id": "82851ba4",
   "metadata": {},
   "outputs": [],
   "source": [
    "tahmin3=k.predict(x)"
   ]
  },
  {
   "cell_type": "code",
   "execution_count": 44,
   "id": "d1033024",
   "metadata": {},
   "outputs": [
    {
     "name": "stdout",
     "output_type": "stream",
     "text": [
      "              precision    recall  f1-score   support\n",
      "\n",
      "         0.0       0.22      0.64      0.33      2041\n",
      "         1.0       0.98      0.87      0.92     35956\n",
      "\n",
      "    accuracy                           0.86     37997\n",
      "   macro avg       0.60      0.76      0.62     37997\n",
      "weighted avg       0.94      0.86      0.89     37997\n",
      "\n"
     ]
    }
   ],
   "source": [
    "print(classification_report(tahmin3,y))"
   ]
  },
  {
   "cell_type": "code",
   "execution_count": 45,
   "id": "1e0945c5",
   "metadata": {},
   "outputs": [
    {
     "data": {
      "text/plain": [
       "array([[ 1309,   732],\n",
       "       [ 4625, 31331]])"
      ]
     },
     "execution_count": 45,
     "metadata": {},
     "output_type": "execute_result"
    }
   ],
   "source": [
    "confusion_matrix(tahmin3,y)"
   ]
  },
  {
   "cell_type": "code",
   "execution_count": 46,
   "id": "a7cbc5b0",
   "metadata": {},
   "outputs": [],
   "source": [
    "from sklearn.linear_model import LogisticRegression\n",
    "l=LogisticRegression()"
   ]
  },
  {
   "cell_type": "code",
   "execution_count": 47,
   "id": "c080470d",
   "metadata": {},
   "outputs": [
    {
     "data": {
      "text/plain": [
       "LogisticRegression()"
      ]
     },
     "execution_count": 47,
     "metadata": {},
     "output_type": "execute_result"
    }
   ],
   "source": [
    "l.fit(x,y)"
   ]
  },
  {
   "cell_type": "code",
   "execution_count": 48,
   "id": "6bb30c2a",
   "metadata": {},
   "outputs": [],
   "source": [
    "tahmin4=l.predict(x)"
   ]
  },
  {
   "cell_type": "code",
   "execution_count": 49,
   "id": "ce47265d",
   "metadata": {},
   "outputs": [
    {
     "name": "stdout",
     "output_type": "stream",
     "text": [
      "              precision    recall  f1-score   support\n",
      "\n",
      "         0.0       0.00      0.00      0.00         0\n",
      "         1.0       1.00      0.84      0.92     37997\n",
      "\n",
      "    accuracy                           0.84     37997\n",
      "   macro avg       0.50      0.42      0.46     37997\n",
      "weighted avg       1.00      0.84      0.92     37997\n",
      "\n"
     ]
    }
   ],
   "source": [
    "print(classification_report(tahmin4,y))"
   ]
  },
  {
   "cell_type": "code",
   "execution_count": 50,
   "id": "7875b2bf",
   "metadata": {},
   "outputs": [
    {
     "data": {
      "text/plain": [
       "array([[    0,     0],\n",
       "       [ 5934, 32063]])"
      ]
     },
     "execution_count": 50,
     "metadata": {},
     "output_type": "execute_result"
    }
   ],
   "source": [
    "confusion_matrix(tahmin4,y)"
   ]
  },
  {
   "cell_type": "code",
   "execution_count": 51,
   "id": "7a6d112f",
   "metadata": {},
   "outputs": [],
   "source": [
    "from sklearn.tree import DecisionTreeClassifier\n",
    "d=DecisionTreeClassifier()"
   ]
  },
  {
   "cell_type": "code",
   "execution_count": 52,
   "id": "6399b26e",
   "metadata": {},
   "outputs": [
    {
     "data": {
      "text/plain": [
       "DecisionTreeClassifier()"
      ]
     },
     "execution_count": 52,
     "metadata": {},
     "output_type": "execute_result"
    }
   ],
   "source": [
    "d.fit(x,y)"
   ]
  },
  {
   "cell_type": "code",
   "execution_count": 53,
   "id": "8b08177f",
   "metadata": {},
   "outputs": [],
   "source": [
    "tahmin5=d.predict(x)"
   ]
  },
  {
   "cell_type": "code",
   "execution_count": 54,
   "id": "cb19c2e0",
   "metadata": {},
   "outputs": [
    {
     "name": "stdout",
     "output_type": "stream",
     "text": [
      "              precision    recall  f1-score   support\n",
      "\n",
      "         0.0       1.00      0.98      0.99      6036\n",
      "         1.0       1.00      1.00      1.00     31961\n",
      "\n",
      "    accuracy                           1.00     37997\n",
      "   macro avg       1.00      0.99      0.99     37997\n",
      "weighted avg       1.00      1.00      1.00     37997\n",
      "\n"
     ]
    }
   ],
   "source": [
    "print(classification_report(tahmin5,y))"
   ]
  },
  {
   "cell_type": "code",
   "execution_count": 55,
   "id": "372a9f52",
   "metadata": {},
   "outputs": [
    {
     "data": {
      "text/plain": [
       "array([[ 5934,   102],\n",
       "       [    0, 31961]])"
      ]
     },
     "execution_count": 55,
     "metadata": {},
     "output_type": "execute_result"
    }
   ],
   "source": [
    "confusion_matrix(tahmin5,y)"
   ]
  }
 ],
 "metadata": {
  "kernelspec": {
   "display_name": "Python 3 (ipykernel)",
   "language": "python",
   "name": "python3"
  },
  "language_info": {
   "codemirror_mode": {
    "name": "ipython",
    "version": 3
   },
   "file_extension": ".py",
   "mimetype": "text/x-python",
   "name": "python",
   "nbconvert_exporter": "python",
   "pygments_lexer": "ipython3",
   "version": "3.9.12"
  }
 },
 "nbformat": 4,
 "nbformat_minor": 5
}
